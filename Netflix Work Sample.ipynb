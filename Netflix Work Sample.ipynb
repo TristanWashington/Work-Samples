{
 "cells": [
  {
   "cell_type": "code",
   "execution_count": 52,
   "id": "0b1cbcac",
   "metadata": {},
   "outputs": [],
   "source": [
    "import pandas as pd"
   ]
  },
  {
   "cell_type": "code",
   "execution_count": 53,
   "id": "6a18be8e",
   "metadata": {},
   "outputs": [],
   "source": [
    "df = pd.read_csv(r\"C:\\Users\\trist\\Downloads\\Viewing Activity.csv\")"
   ]
  },
  {
   "cell_type": "code",
   "execution_count": 54,
   "id": "3e6be135",
   "metadata": {},
   "outputs": [
    {
     "data": {
      "text/plain": [
       "(8011, 10)"
      ]
     },
     "execution_count": 54,
     "metadata": {},
     "output_type": "execute_result"
    }
   ],
   "source": [
    "df.shape"
   ]
  },
  {
   "cell_type": "code",
   "execution_count": 55,
   "id": "35de1d01",
   "metadata": {},
   "outputs": [
    {
     "data": {
      "text/html": [
       "<div>\n",
       "<style scoped>\n",
       "    .dataframe tbody tr th:only-of-type {\n",
       "        vertical-align: middle;\n",
       "    }\n",
       "\n",
       "    .dataframe tbody tr th {\n",
       "        vertical-align: top;\n",
       "    }\n",
       "\n",
       "    .dataframe thead th {\n",
       "        text-align: right;\n",
       "    }\n",
       "</style>\n",
       "<table border=\"1\" class=\"dataframe\">\n",
       "  <thead>\n",
       "    <tr style=\"text-align: right;\">\n",
       "      <th></th>\n",
       "      <th>Profile Name</th>\n",
       "      <th>Start Time</th>\n",
       "      <th>Duration</th>\n",
       "      <th>Attributes</th>\n",
       "      <th>Title</th>\n",
       "      <th>Supplemental Video Type</th>\n",
       "      <th>Device Type</th>\n",
       "      <th>Bookmark</th>\n",
       "      <th>Latest Bookmark</th>\n",
       "      <th>Country</th>\n",
       "    </tr>\n",
       "  </thead>\n",
       "  <tbody>\n",
       "    <tr>\n",
       "      <th>0</th>\n",
       "      <td>Tristan</td>\n",
       "      <td>3/7/2023 18:59</td>\n",
       "      <td>0:10:34</td>\n",
       "      <td>NaN</td>\n",
       "      <td>The Walking Dead: Season 4: 30 Days Without an...</td>\n",
       "      <td>NaN</td>\n",
       "      <td>Apple iPhone 8 Plus (CDMA)</td>\n",
       "      <td>0:42:30</td>\n",
       "      <td>0:42:30</td>\n",
       "      <td>US (United States)</td>\n",
       "    </tr>\n",
       "    <tr>\n",
       "      <th>1</th>\n",
       "      <td>Tristan</td>\n",
       "      <td>3/7/2023 17:11</td>\n",
       "      <td>0:14:16</td>\n",
       "      <td>NaN</td>\n",
       "      <td>The Walking Dead: Season 4: 30 Days Without an...</td>\n",
       "      <td>NaN</td>\n",
       "      <td>Apple iPhone 8 Plus (CDMA)</td>\n",
       "      <td>0:31:55</td>\n",
       "      <td>Not latest view</td>\n",
       "      <td>US (United States)</td>\n",
       "    </tr>\n",
       "    <tr>\n",
       "      <th>2</th>\n",
       "      <td>Tristan</td>\n",
       "      <td>3/6/2023 19:19</td>\n",
       "      <td>0:00:23</td>\n",
       "      <td>Autoplayed: user action: None;</td>\n",
       "      <td>The Walking Dead: Season 1_hook_primary_16x9</td>\n",
       "      <td>HOOK</td>\n",
       "      <td>Apple iPhone 8 Plus (CDMA)</td>\n",
       "      <td>0:00:23</td>\n",
       "      <td>0:00:23</td>\n",
       "      <td>US (United States)</td>\n",
       "    </tr>\n",
       "    <tr>\n",
       "      <th>3</th>\n",
       "      <td>Tristan</td>\n",
       "      <td>3/6/2023 19:19</td>\n",
       "      <td>0:17:07</td>\n",
       "      <td>NaN</td>\n",
       "      <td>The Walking Dead: Season 4: 30 Days Without an...</td>\n",
       "      <td>NaN</td>\n",
       "      <td>Apple iPhone 8 Plus (CDMA)</td>\n",
       "      <td>0:17:39</td>\n",
       "      <td>Not latest view</td>\n",
       "      <td>US (United States)</td>\n",
       "    </tr>\n",
       "    <tr>\n",
       "      <th>4</th>\n",
       "      <td>Tristan</td>\n",
       "      <td>3/6/2023 17:26</td>\n",
       "      <td>0:00:05</td>\n",
       "      <td>NaN</td>\n",
       "      <td>The Walking Dead: Season 4: 30 Days Without an...</td>\n",
       "      <td>NaN</td>\n",
       "      <td>Apple iPhone 8 Plus (CDMA)</td>\n",
       "      <td>0:00:12</td>\n",
       "      <td>Not latest view</td>\n",
       "      <td>US (United States)</td>\n",
       "    </tr>\n",
       "  </tbody>\n",
       "</table>\n",
       "</div>"
      ],
      "text/plain": [
       "  Profile Name      Start Time Duration                       Attributes  \\\n",
       "0      Tristan  3/7/2023 18:59  0:10:34                              NaN   \n",
       "1      Tristan  3/7/2023 17:11  0:14:16                              NaN   \n",
       "2      Tristan  3/6/2023 19:19  0:00:23  Autoplayed: user action: None;    \n",
       "3      Tristan  3/6/2023 19:19  0:17:07                              NaN   \n",
       "4      Tristan  3/6/2023 17:26  0:00:05                              NaN   \n",
       "\n",
       "                                               Title Supplemental Video Type  \\\n",
       "0  The Walking Dead: Season 4: 30 Days Without an...                     NaN   \n",
       "1  The Walking Dead: Season 4: 30 Days Without an...                     NaN   \n",
       "2       The Walking Dead: Season 1_hook_primary_16x9                    HOOK   \n",
       "3  The Walking Dead: Season 4: 30 Days Without an...                     NaN   \n",
       "4  The Walking Dead: Season 4: 30 Days Without an...                     NaN   \n",
       "\n",
       "                  Device Type Bookmark  Latest Bookmark             Country  \n",
       "0  Apple iPhone 8 Plus (CDMA)  0:42:30          0:42:30  US (United States)  \n",
       "1  Apple iPhone 8 Plus (CDMA)  0:31:55  Not latest view  US (United States)  \n",
       "2  Apple iPhone 8 Plus (CDMA)  0:00:23          0:00:23  US (United States)  \n",
       "3  Apple iPhone 8 Plus (CDMA)  0:17:39  Not latest view  US (United States)  \n",
       "4  Apple iPhone 8 Plus (CDMA)  0:00:12  Not latest view  US (United States)  "
      ]
     },
     "execution_count": 55,
     "metadata": {},
     "output_type": "execute_result"
    }
   ],
   "source": [
    "df.head()"
   ]
  },
  {
   "cell_type": "code",
   "execution_count": 56,
   "id": "8fa02451",
   "metadata": {},
   "outputs": [],
   "source": [
    "df = df.drop(['Profile Name', 'Attributes', 'Supplemental Video Type', 'Device Type', 'Bookmark', 'Latest Bookmark', 'Country'], axis=1)"
   ]
  },
  {
   "cell_type": "code",
   "execution_count": 57,
   "id": "990bcbaa",
   "metadata": {},
   "outputs": [
    {
     "data": {
      "text/html": [
       "<div>\n",
       "<style scoped>\n",
       "    .dataframe tbody tr th:only-of-type {\n",
       "        vertical-align: middle;\n",
       "    }\n",
       "\n",
       "    .dataframe tbody tr th {\n",
       "        vertical-align: top;\n",
       "    }\n",
       "\n",
       "    .dataframe thead th {\n",
       "        text-align: right;\n",
       "    }\n",
       "</style>\n",
       "<table border=\"1\" class=\"dataframe\">\n",
       "  <thead>\n",
       "    <tr style=\"text-align: right;\">\n",
       "      <th></th>\n",
       "      <th>Start Time</th>\n",
       "      <th>Duration</th>\n",
       "      <th>Title</th>\n",
       "    </tr>\n",
       "  </thead>\n",
       "  <tbody>\n",
       "    <tr>\n",
       "      <th>0</th>\n",
       "      <td>3/7/2023 18:59</td>\n",
       "      <td>0:10:34</td>\n",
       "      <td>The Walking Dead: Season 4: 30 Days Without an...</td>\n",
       "    </tr>\n",
       "  </tbody>\n",
       "</table>\n",
       "</div>"
      ],
      "text/plain": [
       "       Start Time Duration                                              Title\n",
       "0  3/7/2023 18:59  0:10:34  The Walking Dead: Season 4: 30 Days Without an..."
      ]
     },
     "execution_count": 57,
     "metadata": {},
     "output_type": "execute_result"
    }
   ],
   "source": [
    "df.head(1)"
   ]
  },
  {
   "cell_type": "code",
   "execution_count": 58,
   "id": "a2bd19de",
   "metadata": {},
   "outputs": [
    {
     "data": {
      "text/plain": [
       "Start Time    object\n",
       "Duration      object\n",
       "Title         object\n",
       "dtype: object"
      ]
     },
     "execution_count": 58,
     "metadata": {},
     "output_type": "execute_result"
    }
   ],
   "source": [
    "df.dtypes"
   ]
  },
  {
   "cell_type": "code",
   "execution_count": 59,
   "id": "46e993a7",
   "metadata": {},
   "outputs": [
    {
     "data": {
      "text/plain": [
       "Start Time    datetime64[ns, UTC]\n",
       "Duration                   object\n",
       "Title                      object\n",
       "dtype: object"
      ]
     },
     "execution_count": 59,
     "metadata": {},
     "output_type": "execute_result"
    }
   ],
   "source": [
    "df['Start Time'] = pd.to_datetime(df['Start Time'], utc=True)\n",
    "df.dtypes"
   ]
  },
  {
   "cell_type": "code",
   "execution_count": 60,
   "id": "3d87f667",
   "metadata": {},
   "outputs": [],
   "source": [
    "# change the Start Time column into the dataframe's index\n",
    "df = df.set_index('Start Time')"
   ]
  },
  {
   "cell_type": "code",
   "execution_count": 61,
   "id": "09dbf8e3",
   "metadata": {},
   "outputs": [],
   "source": [
    "# reset the index so that Start Time becomes a column again\n",
    "df = df.reset_index()"
   ]
  },
  {
   "cell_type": "code",
   "execution_count": 62,
   "id": "106366ea",
   "metadata": {},
   "outputs": [
    {
     "data": {
      "text/html": [
       "<div>\n",
       "<style scoped>\n",
       "    .dataframe tbody tr th:only-of-type {\n",
       "        vertical-align: middle;\n",
       "    }\n",
       "\n",
       "    .dataframe tbody tr th {\n",
       "        vertical-align: top;\n",
       "    }\n",
       "\n",
       "    .dataframe thead th {\n",
       "        text-align: right;\n",
       "    }\n",
       "</style>\n",
       "<table border=\"1\" class=\"dataframe\">\n",
       "  <thead>\n",
       "    <tr style=\"text-align: right;\">\n",
       "      <th></th>\n",
       "      <th>Start Time</th>\n",
       "      <th>Duration</th>\n",
       "      <th>Title</th>\n",
       "    </tr>\n",
       "  </thead>\n",
       "  <tbody>\n",
       "    <tr>\n",
       "      <th>0</th>\n",
       "      <td>2023-03-07 18:59:00+00:00</td>\n",
       "      <td>0:10:34</td>\n",
       "      <td>The Walking Dead: Season 4: 30 Days Without an...</td>\n",
       "    </tr>\n",
       "  </tbody>\n",
       "</table>\n",
       "</div>"
      ],
      "text/plain": [
       "                 Start Time Duration  \\\n",
       "0 2023-03-07 18:59:00+00:00  0:10:34   \n",
       "\n",
       "                                               Title  \n",
       "0  The Walking Dead: Season 4: 30 Days Without an...  "
      ]
     },
     "execution_count": 62,
     "metadata": {},
     "output_type": "execute_result"
    }
   ],
   "source": [
    "#double-check that it worked\n",
    "df.head(1)"
   ]
  },
  {
   "cell_type": "code",
   "execution_count": 63,
   "id": "50f39773",
   "metadata": {},
   "outputs": [
    {
     "data": {
      "text/plain": [
       "Start Time    datetime64[ns, UTC]\n",
       "Duration          timedelta64[ns]\n",
       "Title                      object\n",
       "dtype: object"
      ]
     },
     "execution_count": 63,
     "metadata": {},
     "output_type": "execute_result"
    }
   ],
   "source": [
    "df['Duration'] = pd.to_timedelta(df['Duration'])\n",
    "df.dtypes"
   ]
  },
  {
   "cell_type": "code",
   "execution_count": 64,
   "id": "d3ba3eb1",
   "metadata": {},
   "outputs": [],
   "source": [
    "# create a new dataframe called walkingdead that takes from df\n",
    "# only the rows in which the Title column contains 'The Walking Dead'\n",
    "walkingdead = df[df['Title'].str.contains('The Walking Dead', regex=False)]"
   ]
  },
  {
   "cell_type": "code",
   "execution_count": 65,
   "id": "fc62bdb7",
   "metadata": {},
   "outputs": [
    {
     "data": {
      "text/plain": [
       "(113, 3)"
      ]
     },
     "execution_count": 65,
     "metadata": {},
     "output_type": "execute_result"
    }
   ],
   "source": [
    "walkingdead.shape"
   ]
  },
  {
   "cell_type": "code",
   "execution_count": 66,
   "id": "5afe5f6a",
   "metadata": {},
   "outputs": [],
   "source": [
    "walkingdead = walkingdead[(walkingdead['Duration'] > '0 days 00:01:00')]"
   ]
  },
  {
   "cell_type": "code",
   "execution_count": 67,
   "id": "440c85de",
   "metadata": {},
   "outputs": [
    {
     "data": {
      "text/plain": [
       "(85, 3)"
      ]
     },
     "execution_count": 67,
     "metadata": {},
     "output_type": "execute_result"
    }
   ],
   "source": [
    "walkingdead.shape"
   ]
  },
  {
   "cell_type": "code",
   "execution_count": 68,
   "id": "73b46463",
   "metadata": {},
   "outputs": [
    {
     "data": {
      "text/plain": [
       "Timedelta('1 days 06:50:39')"
      ]
     },
     "execution_count": 68,
     "metadata": {},
     "output_type": "execute_result"
    }
   ],
   "source": [
    "walkingdead['Duration'].sum()"
   ]
  },
  {
   "cell_type": "code",
   "execution_count": 69,
   "id": "c328dbc3",
   "metadata": {
    "scrolled": true
   },
   "outputs": [],
   "source": [
    "walkingdead['weekday'] = walkingdead['Start Time'].dt.weekday\n",
    "walkingdead['hour'] = walkingdead['Start Time'].dt.hour"
   ]
  },
  {
   "cell_type": "code",
   "execution_count": 70,
   "id": "c47138b8",
   "metadata": {},
   "outputs": [
    {
     "data": {
      "text/html": [
       "<div>\n",
       "<style scoped>\n",
       "    .dataframe tbody tr th:only-of-type {\n",
       "        vertical-align: middle;\n",
       "    }\n",
       "\n",
       "    .dataframe tbody tr th {\n",
       "        vertical-align: top;\n",
       "    }\n",
       "\n",
       "    .dataframe thead th {\n",
       "        text-align: right;\n",
       "    }\n",
       "</style>\n",
       "<table border=\"1\" class=\"dataframe\">\n",
       "  <thead>\n",
       "    <tr style=\"text-align: right;\">\n",
       "      <th></th>\n",
       "      <th>Start Time</th>\n",
       "      <th>Duration</th>\n",
       "      <th>Title</th>\n",
       "      <th>weekday</th>\n",
       "      <th>hour</th>\n",
       "    </tr>\n",
       "  </thead>\n",
       "  <tbody>\n",
       "    <tr>\n",
       "      <th>0</th>\n",
       "      <td>2023-03-07 18:59:00+00:00</td>\n",
       "      <td>0 days 00:10:34</td>\n",
       "      <td>The Walking Dead: Season 4: 30 Days Without an...</td>\n",
       "      <td>1</td>\n",
       "      <td>18</td>\n",
       "    </tr>\n",
       "  </tbody>\n",
       "</table>\n",
       "</div>"
      ],
      "text/plain": [
       "                 Start Time        Duration  \\\n",
       "0 2023-03-07 18:59:00+00:00 0 days 00:10:34   \n",
       "\n",
       "                                               Title  weekday  hour  \n",
       "0  The Walking Dead: Season 4: 30 Days Without an...        1    18  "
      ]
     },
     "execution_count": 70,
     "metadata": {},
     "output_type": "execute_result"
    }
   ],
   "source": [
    "walkingdead.head(1)"
   ]
  },
  {
   "cell_type": "code",
   "execution_count": 71,
   "id": "b238cade",
   "metadata": {},
   "outputs": [],
   "source": [
    "%matplotlib inline\n",
    "import matplotlib"
   ]
  },
  {
   "cell_type": "code",
   "execution_count": 72,
   "id": "81af0526",
   "metadata": {},
   "outputs": [],
   "source": [
    "# set categorical and define the order so the days are plotted Monday-Sunday\n",
    "walkingdead['weekday'] = pd.Categorical(walkingdead['weekday'], categories=[0,1,2,3,4,5,6], ordered=True)"
   ]
  },
  {
   "cell_type": "code",
   "execution_count": 73,
   "id": "d1addd8b",
   "metadata": {},
   "outputs": [],
   "source": [
    "#create walkingdead_by_day and count the rows for each weekday, assigning the result to that variable\n",
    "walkingdead_by_day = walkingdead['weekday'].value_counts()"
   ]
  },
  {
   "cell_type": "code",
   "execution_count": 74,
   "id": "bbfadd28",
   "metadata": {},
   "outputs": [],
   "source": [
    "#sort the index using our categoriacal, so that Monday (0) is first, Tuesday (1) is second, etc.\n",
    "walkingdead_by_day = walkingdead_by_day.sort_index()"
   ]
  },
  {
   "cell_type": "code",
   "execution_count": 75,
   "id": "1f91faf2",
   "metadata": {},
   "outputs": [
    {
     "data": {
      "text/plain": [
       "<AxesSubplot:title={'center':'Walking Dead Episodes Watched by Day'}>"
      ]
     },
     "execution_count": 75,
     "metadata": {},
     "output_type": "execute_result"
    },
    {
     "data": {
      "image/png": "[encoded data removed]",
      "text/plain": [
       "<Figure size 2000x1000 with 1 Axes>"
      ]
     },
     "metadata": {},
     "output_type": "display_data"
    }
   ],
   "source": [
    "#plot walkingdead_by_day as a bar chart with the listed size and title\n",
    "walkingdead_by_day.plot(kind= 'bar', figsize=(20,10), title= 'Walking Dead Episodes Watched by Day')"
   ]
  },
  {
   "cell_type": "code",
   "execution_count": 76,
   "id": "1ad744e4",
   "metadata": {},
   "outputs": [],
   "source": [
    "# set our categorical and define the order so the hours are plotted 0-23\n",
    "walkingdead['hour'] = pd.Categorical(walkingdead['hour'], categories= \n",
    "    [0,1,2,3,4,5,6,7,8,9,10,11,12,13,14,15,16,17,18,19,20,21,22,23], ordered=True)"
   ]
  },
  {
   "cell_type": "code",
   "execution_count": 77,
   "id": "c950e9cd",
   "metadata": {},
   "outputs": [],
   "source": [
    "# create walkingdead_by_hour and count the rows for each hour, assigning the result to that variable\n",
    "walkingdead_by_hour = walkingdead['hour'].value_counts()"
   ]
  },
  {
   "cell_type": "code",
   "execution_count": 78,
   "id": "a1e00fc3",
   "metadata": {},
   "outputs": [],
   "source": [
    "# sort the index using our categorical, so that midnight (0) is first, 1 a.m. (1) is second, etc.\n",
    "walkingdead_by_hour = walkingdead_by_hour.sort_index()"
   ]
  },
  {
   "cell_type": "code",
   "execution_count": 79,
   "id": "dcf42cd8",
   "metadata": {},
   "outputs": [
    {
     "data": {
      "text/plain": [
       "<AxesSubplot:title={'center':'Walking Dead Episodes Watched by Hour'}>"
      ]
     },
     "execution_count": 79,
     "metadata": {},
     "output_type": "execute_result"
    },
    {
     "data": {
      "image/png": "[encoded data removed]",
      "text/plain": [
       "<Figure size 2000x1000 with 1 Axes>"
      ]
     },
     "metadata": {},
     "output_type": "display_data"
    }
   ],
   "source": [
    "# plot walkingdead_by_hour as a bar chart with the listed size and title\n",
    "walkingdead_by_hour.plot(kind= 'bar', figsize=(20,10), title='Walking Dead Episodes Watched by Hour')"
   ]
  }
 ],
 "metadata": {
  "kernelspec": {
   "display_name": "Python 3 (ipykernel)",
   "language": "python",
   "name": "python3"
  },
  "language_info": {
   "codemirror_mode": {
    "name": "ipython",
    "version": 3
   },
   "file_extension": ".py",
   "mimetype": "text/x-python",
   "name": "python",
   "nbconvert_exporter": "python",
   "pygments_lexer": "ipython3",
   "version": "3.9.13"
  }
 },
 "nbformat": 4,
 "nbformat_minor": 5
}
